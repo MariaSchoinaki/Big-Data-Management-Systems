{
 "cells": [
  {
   "cell_type": "code",
   "execution_count": null,
   "id": "9b4f95c4",
   "metadata": {},
   "outputs": [],
   "source": [
    "# %pip install pandas, matplotlib, tqdm, neo4j, numpy"
   ]
  },
  {
   "cell_type": "markdown",
   "id": "358c4268",
   "metadata": {},
   "source": [
    "Downloaded Neo4jDesktop - 1.6.1 and created a Local Database "
   ]
  },
  {
   "cell_type": "code",
   "execution_count": 7,
   "id": "cbfff63f",
   "metadata": {},
   "outputs": [],
   "source": [
    "from neo4j import GraphDatabase\n",
    "\n",
    "uri = \"bolt://localhost:7687\"\n",
    "driver = GraphDatabase.driver(uri, auth=(\"neo4j\", \"2024-2025\"))"
   ]
  },
  {
   "cell_type": "code",
   "execution_count": null,
   "id": "e334c049",
   "metadata": {},
   "outputs": [],
   "source": [
    "import pandas as pd\n",
    "\n",
    "actions_df = pd.read_csv(\n",
    "    \"data/act-mooc/mooc_actions.tsv\",\n",
    "    sep=\"\\t\",\n",
    "    header=None,\n",
    "    names=[\"user_id\", \"target_id\", \"action_id\", \"timestamp\"],\n",
    "    dtype=str,\n",
    "    low_memory=False\n",
    ")\n",
    "\n",
    "features_df = pd.read_csv(\n",
    "    \"data/act-mooc/mooc_action_features.tsv\",\n",
    "    sep=\"\\t\",\n",
    "    header=None,\n",
    "    names=[\"feature1\", \"feature2\", \"feature3\", \"feature4\"],\n",
    "    dtype=str,\n",
    "    low_memory=False\n",
    ")\n",
    "\n",
    "labels_df = pd.read_csv(\n",
    "    \"data/act-mooc/mooc_action_labels.tsv\",\n",
    "    sep=\"\\t\",\n",
    "    header=None,\n",
    "    names=[\"label\"],\n",
    "    dtype=str,\n",
    "    low_memory=False\n",
    ")\n",
    "\n",
    "\n",
    "# Reset the index to ensure alignment\n",
    "actions_df.reset_index(drop=True, inplace=True)\n",
    "features_df.reset_index(drop=True, inplace=True)\n",
    "labels_df.reset_index(drop=True, inplace=True)\n",
    "\n",
    "# Combine dataframes\n",
    "combined_df = pd.concat([actions_df, features_df, labels_df], axis=1)"
   ]
  },
  {
   "cell_type": "code",
   "execution_count": 10,
   "id": "91399f0e",
   "metadata": {},
   "outputs": [
    {
     "name": "stdout",
     "output_type": "stream",
     "text": [
      "<class 'pandas.core.frame.DataFrame'>\n",
      "RangeIndex: 411750 entries, 0 to 411749\n",
      "Data columns (total 9 columns):\n",
      " #   Column     Non-Null Count   Dtype \n",
      "---  ------     --------------   ----- \n",
      " 0   user_id    411750 non-null  object\n",
      " 1   target_id  411750 non-null  object\n",
      " 2   action_id  411750 non-null  object\n",
      " 3   timestamp  411750 non-null  object\n",
      " 4   feature1   411750 non-null  object\n",
      " 5   feature2   411750 non-null  object\n",
      " 6   feature3   411750 non-null  object\n",
      " 7   feature4   411750 non-null  object\n",
      " 8   label      411750 non-null  object\n",
      "dtypes: object(9)\n",
      "memory usage: 28.3+ MB\n"
     ]
    }
   ],
   "source": [
    "combined_df.info()"
   ]
  },
  {
   "cell_type": "code",
   "execution_count": null,
   "id": "83041a4c",
   "metadata": {},
   "outputs": [],
   "source": [
    "def insert_action(tx, user_id, target_id, action_id, timestamp,\n",
    "                  feature1, feature2, feature3, feature4, label): # 9 x 30 = 270/60 = 4.5 hours\n",
    "    tx.run(\"\"\"\n",
    "        MERGE (u:User {id: $user_id})\n",
    "        MERGE (t:Target {id: $target_id})\n",
    "        CREATE (u)-[:PERFORMS {\n",
    "            action_id: $action_id,\n",
    "            timestamp: $timestamp,\n",
    "            feature1: $feature1,\n",
    "            feature2: $feature2,\n",
    "            feature3: $feature3,\n",
    "            feature4: $feature4,\n",
    "            label: $label\n",
    "        }]->(t)\n",
    "    \"\"\", user_id=user_id, target_id=target_id, action_id=action_id,\n",
    "         timestamp=timestamp, feature1=feature1, feature2=feature2,\n",
    "         feature3=feature3, feature4=feature4, label=label)\n",
    "\n",
    "with driver.session() as session:\n",
    "    for idx, row in combined_df.iterrows():\n",
    "        session.execute_write(\n",
    "            insert_action,\n",
    "            row['user_id'], row['target_id'], row['action_id'], row['timestamp'],\n",
    "            row['feature1'], row['feature2'], row['feature3'], row['feature4'], row['label']\n",
    "        )\n",
    "        if idx % 50000 == 0 and idx !=0 :\n",
    "            print(f\"Inserted {idx} rows...\")"
   ]
  },
  {
   "cell_type": "markdown",
   "id": "70605a27",
   "metadata": {},
   "source": [
    "- MAYBE THIS WILL SPEED IT UP"
   ]
  },
  {
   "cell_type": "code",
   "execution_count": null,
   "id": "b3856f66",
   "metadata": {},
   "outputs": [],
   "source": [
    "# def insert_actions_batch(tx, batch):\n",
    "#     tx.run(\"\"\"\n",
    "#         UNWIND $rows AS row\n",
    "#         MERGE (u:User {id: row.user_id})\n",
    "#         MERGE (t:Target {id: row.target_id})\n",
    "#         CREATE (u)-[:PERFORMS {\n",
    "#             action_id: row.action_id,\n",
    "#             timestamp: row.timestamp,\n",
    "#             feature1: row.feature1,\n",
    "#             feature2: row.feature2,\n",
    "#             feature3: row.feature3,\n",
    "#             feature4: row.feature4,\n",
    "#             label: row.label\n",
    "#         }]->(t)\n",
    "#     \"\"\", rows=batch)\n",
    "\n",
    "# # Set batch size\n",
    "# batch_size = 1000\n",
    "\n",
    "# with driver.session() as session:\n",
    "#     for i in range(0, len(combined_df), batch_size):\n",
    "#         batch_df = combined_df.iloc[i:i+batch_size]\n",
    "#         batch = batch_df.to_dict('records')  # fast conversion\n",
    "#         session.execute_write(insert_actions_batch, batch)\n",
    "#         print(f\"✅ Inserted {i + len(batch)} rows\")"
   ]
  },
  {
   "cell_type": "code",
   "execution_count": null,
   "id": "ccdb27a1",
   "metadata": {},
   "outputs": [],
   "source": [
    "def run_query(tx, query):\n",
    "    result = tx.run(query)\n",
    "    for record in result:\n",
    "        print(record)"
   ]
  },
  {
   "cell_type": "markdown",
   "id": "9f5c7d81",
   "metadata": {},
   "source": [
    "### CYPHER QUERIES EXECUTION"
   ]
  },
  {
   "cell_type": "code",
   "execution_count": null,
   "id": "6bab3756",
   "metadata": {},
   "outputs": [],
   "source": [
    "with driver.session() as session:\n",
    "    session.execute_read(run_query)"
   ]
  }
 ],
 "metadata": {
  "kernelspec": {
   "display_name": ".venv",
   "language": "python",
   "name": "python3"
  },
  "language_info": {
   "codemirror_mode": {
    "name": "ipython",
    "version": 3
   },
   "file_extension": ".py",
   "mimetype": "text/x-python",
   "name": "python",
   "nbconvert_exporter": "python",
   "pygments_lexer": "ipython3",
   "version": "3.12.0"
  }
 },
 "nbformat": 4,
 "nbformat_minor": 5
}
