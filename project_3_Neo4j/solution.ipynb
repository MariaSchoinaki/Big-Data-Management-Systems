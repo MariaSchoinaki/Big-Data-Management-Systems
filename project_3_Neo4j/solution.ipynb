{
 "cells": [
  {
   "cell_type": "code",
   "execution_count": null,
   "id": "9b4f95c4",
   "metadata": {},
   "outputs": [],
   "source": [
    "%pip install pandas, matplotlib, tqdm, neo4j"
   ]
  },
  {
   "cell_type": "code",
   "execution_count": null,
   "id": "cbfff63f",
   "metadata": {},
   "outputs": [],
   "source": [
    "from neo4j import GraphDatabase\n",
    "\n",
    "uri = \"bolt://localhost:7687\"\n",
    "driver = GraphDatabase.driver(uri, auth=(\"neo4j\", \"your_password\"))"
   ]
  },
  {
   "cell_type": "code",
   "execution_count": null,
   "id": "e334c049",
   "metadata": {},
   "outputs": [],
   "source": [
    "import pandas as pd\n",
    "\n",
    "actions_df = pd.read_csv(\"mooc_actions.tsv\", sep=\"\\t\", header=None, names=[\"user_id\", \"target_id\", \"action_id\", \"timestamp\"])\n",
    "features_df = pd.read_csv(\"mooc_action_features.tsv\", sep=\"\\t\", header=None, names=[\"feature1\", \"feature2\", \"feature3\", \"feature4\"])\n",
    "labels_df = pd.read_csv(\"mooc_action_labels.tsv\", sep=\"\\t\", header=None, names=[\"label\"])\n",
    "\n",
    "# Combine dataframes\n",
    "combined_df = pd.concat([actions_df, features_df, labels_df], axis=1)"
   ]
  },
  {
   "cell_type": "code",
   "execution_count": null,
   "id": "83041a4c",
   "metadata": {},
   "outputs": [],
   "source": [
    "def insert_data(tx, user_id, target_id, action_id, timestamp, feature1, feature2, feature3, feature4, label):\n",
    "    tx.run(\"\"\"\n",
    "        MERGE (u:User {id: $user_id})\n",
    "        MERGE (t:Target {id: $target_id})\n",
    "        CREATE (u)-[:PERFORMS {\n",
    "            action_id: $action_id,\n",
    "            timestamp: $timestamp,\n",
    "            feature1: $feature1,\n",
    "            feature2: $feature2,\n",
    "            feature3: $feature3,\n",
    "            feature4: $feature4,\n",
    "            label: $label\n",
    "        }]->(t)\n",
    "    \"\"\", user_id=user_id, target_id=target_id, action_id=action_id, timestamp=timestamp,\n",
    "         feature1=feature1, feature2=feature2, feature3=feature3, feature4=feature4, label=label)\n",
    "\n",
    "with driver.session() as session:\n",
    "    for index, row in combined_df.iterrows():\n",
    "        session.write_transaction(insert_data, row['user_id'], row['target_id'], row['action_id'],\n",
    "                                  row['timestamp'], row['feature1'], row['feature2'],\n",
    "                                  row['feature3'], row['feature4'], row['label'])"
   ]
  },
  {
   "cell_type": "code",
   "execution_count": null,
   "id": "ccdb27a1",
   "metadata": {},
   "outputs": [],
   "source": [
    "def run_query(tx, query):\n",
    "    result = tx.run(query)\n",
    "    for record in result:\n",
    "        print(record)"
   ]
  },
  {
   "cell_type": "markdown",
   "id": "9f5c7d81",
   "metadata": {},
   "source": [
    "### CYPHER QUERIES EXECUTION"
   ]
  },
  {
   "cell_type": "code",
   "execution_count": null,
   "id": "6bab3756",
   "metadata": {},
   "outputs": [],
   "source": [
    "with driver.session() as session:\n",
    "    session.read_transaction(run_query)"
   ]
  }
 ],
 "metadata": {
  "kernelspec": {
   "display_name": ".venv",
   "language": "python",
   "name": "python3"
  },
  "language_info": {
   "name": "python",
   "version": "3.12.0"
  }
 },
 "nbformat": 4,
 "nbformat_minor": 5
}
