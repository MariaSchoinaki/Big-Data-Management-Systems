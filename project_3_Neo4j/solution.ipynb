{
 "cells": [
  {
   "cell_type": "code",
   "execution_count": null,
   "id": "9b4f95c4",
   "metadata": {},
   "outputs": [],
   "source": [
    "%pip install -r requirements.txt"
   ]
  },
  {
   "cell_type": "code",
   "execution_count": 29,
   "id": "bb590aaa",
   "metadata": {},
   "outputs": [],
   "source": [
    "import os\n",
    "import time\n",
    "import pandas as pd\n",
    "import shutil\n",
    "from neo4j import GraphDatabase\n",
    "from neo4j.exceptions import ServiceUnavailable\n",
    "import networkx as nx\n",
    "import matplotlib.pyplot as plt"
   ]
  },
  {
   "cell_type": "code",
   "execution_count": null,
   "id": "e334c049",
   "metadata": {},
   "outputs": [],
   "source": [
    "actions_df = pd.read_csv(\n",
    "    \"data/act-mooc/mooc_actions.tsv\",\n",
    "    sep=\"\\t\",\n",
    "    header=None,\n",
    "    names=[\"user_id\", \"target_id\", \"action_id\", \"timestamp\"],\n",
    "    dtype=str,\n",
    "    low_memory=False\n",
    ")\n",
    "\n",
    "features_df = pd.read_csv(\n",
    "    \"data/act-mooc/mooc_action_features.tsv\",\n",
    "    sep=\"\\t\",\n",
    "    header=None,\n",
    "    names=[\"feature1\", \"feature2\", \"feature3\", \"feature4\"],\n",
    "    dtype=str,\n",
    "    low_memory=False\n",
    ")\n",
    "\n",
    "labels_df = pd.read_csv(\n",
    "    \"data/act-mooc/mooc_action_labels.tsv\",\n",
    "    sep=\"\\t\",\n",
    "    header=None,\n",
    "    names=[\"label\"],\n",
    "    dtype=str,\n",
    "    low_memory=False\n",
    ")\n",
    "\n",
    "# Reset the index to ensure alignment\n",
    "actions_df.reset_index(drop=True, inplace=True)\n",
    "features_df.reset_index(drop=True, inplace=True)\n",
    "labels_df.reset_index(drop=True, inplace=True)\n",
    "\n",
    "# Combine dataframes\n",
    "combined_df = pd.concat([actions_df, features_df, labels_df], axis=1)"
   ]
  },
  {
   "cell_type": "code",
   "execution_count": 6,
   "id": "91399f0e",
   "metadata": {},
   "outputs": [
    {
     "name": "stdout",
     "output_type": "stream",
     "text": [
      "<class 'pandas.core.frame.DataFrame'>\n",
      "RangeIndex: 411750 entries, 0 to 411749\n",
      "Data columns (total 9 columns):\n",
      " #   Column     Non-Null Count   Dtype \n",
      "---  ------     --------------   ----- \n",
      " 0   user_id    411750 non-null  object\n",
      " 1   target_id  411750 non-null  object\n",
      " 2   action_id  411750 non-null  object\n",
      " 3   timestamp  411750 non-null  object\n",
      " 4   feature1   411750 non-null  object\n",
      " 5   feature2   411750 non-null  object\n",
      " 6   feature3   411750 non-null  object\n",
      " 7   feature4   411750 non-null  object\n",
      " 8   label      411750 non-null  object\n",
      "dtypes: object(9)\n",
      "memory usage: 28.3+ MB\n"
     ]
    }
   ],
   "source": [
    "combined_df.info()"
   ]
  },
  {
   "cell_type": "code",
   "execution_count": null,
   "id": "83041a4c",
   "metadata": {},
   "outputs": [],
   "source": [
    "os.makedirs(\"data/processed\", exist_ok=True)\n",
    "# Step 1: Extract and Save Unique Users\n",
    "users_df = combined_df[['user_id']].drop_duplicates()\n",
    "users_df.to_csv(\"data/processed/users.csv\", index=False)\n",
    "\n",
    "# Step 2: Extract and Save Unique Targets\n",
    "targets_df = combined_df[['target_id']].drop_duplicates()\n",
    "targets_df.to_csv(\"data/processed/targets.csv\", index=False)\n",
    "\n",
    "# Step 3: Save Full Actions Table\n",
    "combined_df.to_csv(\"data/processed/actions.csv\", index=False)"
   ]
  },
  {
   "cell_type": "markdown",
   "id": "993abe37",
   "metadata": {},
   "source": [
    "- Use your own local paths"
   ]
  },
  {
   "cell_type": "code",
   "execution_count": 35,
   "id": "88ad7518",
   "metadata": {},
   "outputs": [
    {
     "name": "stdout",
     "output_type": "stream",
     "text": [
      "✅ Saved and copied: actions_part_1.csv\n",
      "✅ Saved and copied: actions_part_2.csv\n",
      "✅ Saved and copied: actions_part_3.csv\n",
      "✅ Saved and copied: actions_part_4.csv\n",
      "✅ Saved and copied: actions_part_5.csv\n",
      "✅ Saved and copied: actions_part_6.csv\n",
      "✅ Saved and copied: actions_part_7.csv\n",
      "✅ Saved and copied: actions_part_8.csv\n",
      "✅ Saved and copied: actions_part_9.csv\n",
      "✅ Saved and copied: actions_part_10.csv\n",
      "✅ Saved and copied: actions_part_11.csv\n",
      "✅ Saved and copied: actions_part_12.csv\n",
      "✅ Saved and copied: actions_part_13.csv\n",
      "✅ Saved and copied: actions_part_14.csv\n",
      "✅ Saved and copied: actions_part_15.csv\n",
      "✅ Saved and copied: actions_part_16.csv\n",
      "✅ Saved and copied: actions_part_17.csv\n",
      "✅ Saved and copied: actions_part_18.csv\n",
      "✅ Saved and copied: actions_part_19.csv\n",
      "✅ Saved and copied: actions_part_20.csv\n",
      "✅ Saved and copied: actions_part_21.csv\n",
      "✅ Saved and copied: actions_part_22.csv\n",
      "✅ Saved and copied: actions_part_23.csv\n",
      "✅ Saved and copied: actions_part_24.csv\n",
      "✅ Saved and copied: actions_part_25.csv\n",
      "✅ Saved and copied: actions_part_26.csv\n",
      "✅ Saved and copied: actions_part_27.csv\n",
      "✅ Saved and copied: actions_part_28.csv\n",
      "✅ Saved and copied: actions_part_29.csv\n",
      "✅ Saved and copied: actions_part_30.csv\n",
      "✅ Saved and copied: actions_part_31.csv\n",
      "✅ Saved and copied: actions_part_32.csv\n",
      "✅ Saved and copied: actions_part_33.csv\n",
      "✅ Saved and copied: actions_part_34.csv\n",
      "✅ Saved and copied: actions_part_35.csv\n",
      "✅ Saved and copied: actions_part_36.csv\n",
      "✅ Saved and copied: actions_part_37.csv\n",
      "✅ Saved and copied: actions_part_38.csv\n",
      "✅ Saved and copied: actions_part_39.csv\n",
      "✅ Saved and copied: actions_part_40.csv\n",
      "✅ Saved and copied: actions_part_41.csv\n",
      "✅ Saved and copied: actions_part_42.csv\n"
     ]
    }
   ],
   "source": [
    "# Move files to Neo4j\n",
    "neo4j_path = \"C:\\\\Users\\\\mitsa\\\\.Neo4jDesktop\\\\relate-data\\\\dbmss\\\\dbms-732933c2-cb3e-428b-8547-fadf10cc4784\\\\import\\\\\"\n",
    "_=shutil.copy(\"data/processed/users.csv\", f\"{neo4j_path}users.csv\")\n",
    "_=shutil.copy(\"data/processed/targets.csv\", f\"{neo4j_path}targets.csv\")\n",
    "\n",
    "def split_actions_csv_and_copy(input_path, output_dir, neo4j_import_dir, chunk_size=20000):\n",
    "    os.makedirs(output_dir, exist_ok=True)\n",
    "    df = pd.read_csv(input_path, low_memory=False)\n",
    "    global part_count\n",
    "    part_count=0\n",
    "    for i in range(0, len(df), chunk_size):\n",
    "        chunk = df.iloc[i:i + chunk_size]\n",
    "        filename = f\"actions_part_{i//chunk_size + 1}.csv\"\n",
    "        local_path = os.path.join(output_dir, filename)\n",
    "        chunk.to_csv(local_path, index=False)\n",
    "\n",
    "        # Copy to Neo4j import directory\n",
    "        neo4j_path = os.path.join(neo4j_import_dir, filename)\n",
    "        shutil.copy(local_path, neo4j_path)\n",
    "        print(f\"✅ Saved and copied: {filename}\")\n",
    "        part_count+=1\n",
    "\n",
    "split_actions_csv_and_copy(\n",
    "    input_path=\"data/processed/actions.csv\",\n",
    "    output_dir=\"data/processed/splits\",\n",
    "    neo4j_import_dir=\"C:\\\\Users\\\\mitsa\\\\.Neo4jDesktop\\\\relate-data\\\\dbmss\\\\dbms-732933c2-cb3e-428b-8547-fadf10cc4784\\\\import\\\\\",\n",
    "    chunk_size=10000 # 5000 10000 20000\n",
    ")"
   ]
  },
  {
   "cell_type": "markdown",
   "id": "01a2bbfd",
   "metadata": {},
   "source": [
    "Downloaded Neo4jDesktop - 1.6.1 and created a Local Database\n",
    "\n",
    "![Screenshot from the created Database in Neo4j Desktop](Neo4j_Desktop_Screenshot.png)"
   ]
  },
  {
   "cell_type": "code",
   "execution_count": 36,
   "id": "45a3c563",
   "metadata": {},
   "outputs": [],
   "source": [
    "def check_database_status(driver):\n",
    "    with driver.session(database=\"neo4j\") as session:\n",
    "        result = session.run(\"RETURN 'Neo4j is ready' AS status\")\n",
    "        print(result.single()[\"status\"])\n",
    "        \n",
    "        # Count nodes\n",
    "        result_nodes = session.run(\"MATCH (n) RETURN count(n) AS total_nodes\")\n",
    "        total_nodes = result_nodes.single()[\"total_nodes\"]\n",
    "\n",
    "        # Count relationships\n",
    "        result_rels = session.run(\"MATCH ()-[r]->() RETURN count(r) AS total_rels\")\n",
    "        total_rels = result_rels.single()[\"total_rels\"]\n",
    "\n",
    "    print(f\"📦 Total Nodes: {total_nodes}\")\n",
    "    print(f\"🔗 Total Relationships: {total_rels}\")"
   ]
  },
  {
   "cell_type": "code",
   "execution_count": null,
   "id": "37e87741",
   "metadata": {},
   "outputs": [
    {
     "name": "stdout",
     "output_type": "stream",
     "text": [
      "Neo4j is ready\n",
      "📦 Total Nodes: 418798\n",
      "🔗 Total Relationships: 410000\n"
     ]
    }
   ],
   "source": [
    "def connect_to_neo4j(driver=None):\n",
    "    if driver:\n",
    "        driver.close()\n",
    "    try:\n",
    "        driver = GraphDatabase.driver(\"bolt://localhost:7687\", auth=(\"neo4j\", \"2024-2025\"))\n",
    "        check_database_status(driver)\n",
    "        return driver\n",
    "    except ServiceUnavailable:\n",
    "        print(\"❌ Could not connect to Neo4j. Is it running in Desktop? Please start it.\")\n",
    "        return None\n",
    "\n",
    "driver = connect_to_neo4j()"
   ]
  },
  {
   "cell_type": "markdown",
   "id": "c586348c",
   "metadata": {},
   "source": [
    "❕Before running the cell below make sure that:\n",
    "You have moved `users.csv`, `targets.csv`, and `actions.csv` into Neo4j Desktop's import folder:\n",
    "\n",
    "- In Neo4j Desktop → Projects → Right-click your DB → \"Open Folder\" → \"Import\"\n",
    "\n",
    "- Copy/paste the 3 CSVs there\n",
    "\n",
    "- Make sure the DB has started"
   ]
  },
  {
   "cell_type": "code",
   "execution_count": null,
   "id": "fda4adfa",
   "metadata": {},
   "outputs": [
    {
     "name": "stdout",
     "output_type": "stream",
     "text": [
      "🧨 neo4j database has been dropped and recreated.\n",
      "⏳ Waiting for Neo4j database to fully initialize...\n",
      "Neo4j is ready\n",
      "📦 Total Nodes: 0\n",
      "🔗 Total Relationships: 0\n"
     ]
    }
   ],
   "source": [
    "def reset_database(driver):\n",
    "    verify = input(\"Do you want to drop and recreate the 'neo4j' database? (y/n): \")\n",
    "    if verify.lower() == \"y\":\n",
    "        with driver.session(database=\"system\") as session:\n",
    "            # Drop and recreate the 'neo4j' database\n",
    "            session.run(\"DROP DATABASE neo4j IF EXISTS\")\n",
    "            session.run(\"CREATE DATABASE neo4j\")\n",
    "            print(\"🧨 neo4j database has been dropped and recreated.\")\n",
    "            print(\"⏳ Waiting for Neo4j database to fully initialize...\")\n",
    "            time.sleep(30) # Wait for Neo4j to initialize the new database\n",
    "            new_driver = connect_to_neo4j(driver) # Reconnect to the database\n",
    "            return new_driver\n",
    "        \n",
    "driver = reset_database(driver) "
   ]
  },
  {
   "cell_type": "markdown",
   "id": "7474a40b",
   "metadata": {},
   "source": [
    "- **OR** Run this in Neo4j Desktop Browser\n",
    "\n",
    "```cypher\n",
    ":use system\n",
    "DROP DATABASE neo4j IF EXISTS;\n",
    "CREATE DATABASE neo4j;\n",
    "```\n",
    "- Wait 10 - 15 seconds and then run this:\n",
    "\n",
    "```cypher\n",
    ":use neo4j\n",
    "```\n"
   ]
  },
  {
   "cell_type": "markdown",
   "id": "89fa9fdb",
   "metadata": {},
   "source": [
    "- Testing that DB is Up and Running and Connectable"
   ]
  },
  {
   "cell_type": "code",
   "execution_count": 37,
   "id": "db9360bf",
   "metadata": {},
   "outputs": [
    {
     "name": "stdout",
     "output_type": "stream",
     "text": [
      "<Record test=1>\n"
     ]
    }
   ],
   "source": [
    "with driver.session(database=\"neo4j\") as session:\n",
    "    result = session.run(\"RETURN 1 AS test\")\n",
    "    print(result.single())"
   ]
  },
  {
   "cell_type": "code",
   "execution_count": 85,
   "id": "b3856f66",
   "metadata": {},
   "outputs": [
    {
     "name": "stdout",
     "output_type": "stream",
     "text": [
      "🔧 Indexes created: user_id_index, target_id_index\n",
      "✅ Loaded users.csv into User nodes\n",
      "✅ Loaded targets.csv into Target nodes\n",
      "📥 Loading actions_part_1.csv\n",
      "✅ Loaded: actions_part_1.csv\n",
      "📥 Loading actions_part_2.csv\n",
      "✅ Loaded: actions_part_2.csv\n",
      "📥 Loading actions_part_3.csv\n",
      "✅ Loaded: actions_part_3.csv\n",
      "📥 Loading actions_part_4.csv\n",
      "✅ Loaded: actions_part_4.csv\n",
      "📥 Loading actions_part_5.csv\n",
      "✅ Loaded: actions_part_5.csv\n",
      "📥 Loading actions_part_6.csv\n",
      "✅ Loaded: actions_part_6.csv\n",
      "📥 Loading actions_part_7.csv\n",
      "✅ Loaded: actions_part_7.csv\n",
      "📥 Loading actions_part_8.csv\n",
      "✅ Loaded: actions_part_8.csv\n",
      "📥 Loading actions_part_9.csv\n",
      "✅ Loaded: actions_part_9.csv\n",
      "📥 Loading actions_part_10.csv\n",
      "✅ Loaded: actions_part_10.csv\n",
      "📥 Loading actions_part_11.csv\n",
      "✅ Loaded: actions_part_11.csv\n",
      "📥 Loading actions_part_12.csv\n",
      "✅ Loaded: actions_part_12.csv\n",
      "📥 Loading actions_part_13.csv\n",
      "✅ Loaded: actions_part_13.csv\n",
      "📥 Loading actions_part_14.csv\n",
      "✅ Loaded: actions_part_14.csv\n",
      "📥 Loading actions_part_15.csv\n",
      "✅ Loaded: actions_part_15.csv\n",
      "📥 Loading actions_part_16.csv\n",
      "✅ Loaded: actions_part_16.csv\n",
      "📥 Loading actions_part_17.csv\n",
      "✅ Loaded: actions_part_17.csv\n",
      "📥 Loading actions_part_18.csv\n",
      "✅ Loaded: actions_part_18.csv\n",
      "📥 Loading actions_part_19.csv\n",
      "✅ Loaded: actions_part_19.csv\n",
      "📥 Loading actions_part_20.csv\n",
      "✅ Loaded: actions_part_20.csv\n",
      "📥 Loading actions_part_21.csv\n",
      "✅ Loaded: actions_part_21.csv\n",
      "📥 Loading actions_part_22.csv\n",
      "✅ Loaded: actions_part_22.csv\n",
      "📥 Loading actions_part_23.csv\n",
      "✅ Loaded: actions_part_23.csv\n",
      "📥 Loading actions_part_24.csv\n",
      "✅ Loaded: actions_part_24.csv\n",
      "📥 Loading actions_part_25.csv\n",
      "✅ Loaded: actions_part_25.csv\n",
      "📥 Loading actions_part_26.csv\n",
      "✅ Loaded: actions_part_26.csv\n",
      "📥 Loading actions_part_27.csv\n",
      "✅ Loaded: actions_part_27.csv\n",
      "📥 Loading actions_part_28.csv\n",
      "✅ Loaded: actions_part_28.csv\n",
      "📥 Loading actions_part_29.csv\n",
      "✅ Loaded: actions_part_29.csv\n",
      "📥 Loading actions_part_30.csv\n",
      "✅ Loaded: actions_part_30.csv\n",
      "📥 Loading actions_part_31.csv\n",
      "✅ Loaded: actions_part_31.csv\n",
      "📥 Loading actions_part_32.csv\n",
      "✅ Loaded: actions_part_32.csv\n",
      "📥 Loading actions_part_33.csv\n",
      "✅ Loaded: actions_part_33.csv\n",
      "📥 Loading actions_part_34.csv\n",
      "✅ Loaded: actions_part_34.csv\n",
      "📥 Loading actions_part_35.csv\n",
      "✅ Loaded: actions_part_35.csv\n",
      "📥 Loading actions_part_36.csv\n",
      "✅ Loaded: actions_part_36.csv\n",
      "📥 Loading actions_part_37.csv\n",
      "✅ Loaded: actions_part_37.csv\n",
      "📥 Loading actions_part_38.csv\n",
      "✅ Loaded: actions_part_38.csv\n",
      "📥 Loading actions_part_39.csv\n",
      "✅ Loaded: actions_part_39.csv\n",
      "📥 Loading actions_part_40.csv\n",
      "✅ Loaded: actions_part_40.csv\n",
      "📥 Loading actions_part_41.csv\n",
      "✅ Loaded: actions_part_41.csv\n",
      "✅ Loaded all actions_part_*.csv files into PERFORMS relationships\n",
      "💯 Successfull\n"
     ]
    }
   ],
   "source": [
    "def load_actions_in_parts(driver, filenames, folder=\"file:///\"):\n",
    "    for filename in filenames:\n",
    "        print(f\"📥 Loading {filename}\")\n",
    "        query = f\"\"\"\n",
    "        CALL () {{\n",
    "            LOAD CSV WITH HEADERS FROM '{folder}{filename}' AS row\n",
    "            MATCH (u:User {{id: row.user_id}})\n",
    "            MATCH (t:Target {{id: row.target_id}})\n",
    "            CREATE (u)-[:PERFORMS {{\n",
    "                action_id: row.action_id,\n",
    "                timestamp: row.timestamp,\n",
    "                feature1: toFloat(row.feature1),\n",
    "                feature2: toFloat(row.feature2),\n",
    "                feature3: toFloat(row.feature3),\n",
    "                feature4: toFloat(row.feature4),\n",
    "                label: toInteger(row.label)\n",
    "            }}]->(t)\n",
    "        }} IN TRANSACTIONS OF 1000 ROWS\n",
    "        \"\"\"\n",
    "        with driver.session(database=\"neo4j\") as session:\n",
    "            session.run(query)\n",
    "        print(f\"✅ Loaded: {filename}\")\n",
    "\n",
    "def load_csv_data(driver):\n",
    "    with driver.session(database=\"neo4j\") as session:\n",
    "        # Create indexes\n",
    "        session.run(\"CREATE INDEX user_id_index IF NOT EXISTS FOR (u:User) ON (u.id)\")\n",
    "        session.run(\"CREATE INDEX target_id_index IF NOT EXISTS FOR (t:Target) ON (t.id)\")\n",
    "        print(\"🔧 Indexes created: user_id_index, target_id_index\")\n",
    "\n",
    "        # 1. Load Users\n",
    "        session.run(\"\"\"\n",
    "        CALL () {\n",
    "            LOAD CSV WITH HEADERS FROM 'file:///users.csv' AS row\n",
    "            MERGE (:User {id: row.user_id})\n",
    "        } IN TRANSACTIONS OF 100 ROWS\n",
    "        \"\"\")\n",
    "        print(\"✅ Loaded users.csv into User nodes\")\n",
    "\n",
    "        # 2. Load Targets\n",
    "        session.run(\"\"\"\n",
    "        CALL () {\n",
    "            LOAD CSV WITH HEADERS FROM 'file:///targets.csv' AS row\n",
    "            MERGE (:Target {id: row.target_id})\n",
    "        } IN TRANSACTIONS OF 100 ROWS\n",
    "        \"\"\")\n",
    "        print(\"✅ Loaded targets.csv into Target nodes\")\n",
    "        \n",
    "        # 3. Load Actions\n",
    "        files = [f\"actions_part_{i}.csv\" for i in range(1, part_count)]\n",
    "        load_actions_in_parts(driver, files)\n",
    "        print(\"✅ Loaded all actions_part_*.csv files into PERFORMS relationships\")\n",
    "\n",
    "def safe_load(driver):\n",
    "    try:\n",
    "        load_csv_data(driver)\n",
    "        print(f\"💯 Successfully loaded everything!\")\n",
    "    except ServiceUnavailable as e:\n",
    "        print(\"🔌 Connection was dropped. Try restarting Neo4j and reconnecting the driver.\")\n",
    "        print(\"❌ Error:\\n\", e)\n",
    "\n",
    "safe_load(driver)"
   ]
  },
  {
   "cell_type": "code",
   "execution_count": 87,
   "id": "5da5a3f2",
   "metadata": {},
   "outputs": [
    {
     "name": "stdout",
     "output_type": "stream",
     "text": [
      "Neo4j is ready\n",
      "📦 Total Nodes: 418798\n",
      "🔗 Total Relationships: 410000\n"
     ]
    }
   ],
   "source": [
    "check_database_status(driver)"
   ]
  },
  {
   "cell_type": "markdown",
   "id": "9f5c7d81",
   "metadata": {},
   "source": [
    "### CYPHER QUERIES EXECUTION"
   ]
  },
  {
   "cell_type": "code",
   "execution_count": 40,
   "id": "191cd7cd",
   "metadata": {},
   "outputs": [],
   "source": [
    "def load_queries_from_file(filepath):\n",
    "    queries = []\n",
    "    with open(filepath, 'r', encoding='utf-8') as f:\n",
    "        lines = f.read().split('\\n')\n",
    "\n",
    "    current_description = None\n",
    "    current_query_lines = []\n",
    "\n",
    "    for line in lines:\n",
    "        line = line.strip()\n",
    "        if not line:\n",
    "            continue\n",
    "        if line.startswith(\"#\"):  # it's a description\n",
    "            if current_query_lines:\n",
    "                queries.append((current_description, \"\\n\".join(current_query_lines)))\n",
    "                current_query_lines = []\n",
    "            current_description = line[1:].strip()\n",
    "        else:\n",
    "            current_query_lines.append(line)\n",
    "\n",
    "    if current_query_lines:\n",
    "        queries.append((current_description, \"\\n\".join(current_query_lines)))\n",
    "\n",
    "    return queries"
   ]
  },
  {
   "cell_type": "code",
   "execution_count": 41,
   "id": "05cad13d",
   "metadata": {},
   "outputs": [],
   "source": [
    "def save_query_to_csv(driver, query, output_path, display_output=True, benchmark=True):\n",
    "    with driver.session(database=\"neo4j\") as session:\n",
    "        # Start timing\n",
    "        if benchmark:\n",
    "            t0 = time.perf_counter()\n",
    "        result = session.run(query)\n",
    "        # End timing\n",
    "        if benchmark:\n",
    "            t1 = time.perf_counter()\n",
    "        data = [r.data() for r in result]\n",
    "        df = pd.DataFrame(data)\n",
    "        df.to_csv(output_path, index=False)\n",
    "        print(f\"✅ Saved: {output_path}\")\n",
    "        # Print timing result\n",
    "        if benchmark:\n",
    "            print(f\"⏱️ Query executed in {t1 - t0:.4f} seconds.\")\n",
    "        # Display output (show up to max_rows rows)\n",
    "        if display_output:\n",
    "            print(\"\\n--- Output ---\")\n",
    "            if not df.empty:\n",
    "                display(df)\n",
    "            else:\n",
    "                print(\"No results returned.\")\n",
    "    return df  # Optionally, for further processing"
   ]
  },
  {
   "cell_type": "code",
   "execution_count": 42,
   "id": "ccdb27a1",
   "metadata": {},
   "outputs": [],
   "source": [
    "def run_queries_from_file(driver, file_path, save_folder=None):\n",
    "    os.makedirs(save_folder or \"query_outputs\", exist_ok=True)\n",
    "    queries = load_queries_from_file(file_path)\n",
    "\n",
    "    for i, (desc, cypher) in enumerate(queries):\n",
    "        print(f\"\\n🔹 {desc}\")\n",
    "        save_path = os.path.join(save_folder or \"query_outputs\", f\"query_{i+1:02d}_{desc.replace(' ', '_')}.csv\")\n",
    "        try:\n",
    "            save_query_to_csv(driver, cypher, save_path)\n",
    "        except Exception as e:\n",
    "            print(f\"❌ Failed to execute query {i+1}: {e}\")"
   ]
  },
  {
   "cell_type": "code",
   "execution_count": 43,
   "id": "6bab3756",
   "metadata": {},
   "outputs": [
    {
     "name": "stdout",
     "output_type": "stream",
     "text": [
      "\n",
      "🔹 Show a small portion of the graph\n",
      "✅ Saved: results\\query_01_Show_a_small_portion_of_the_graph.csv\n",
      "⏱️ Query executed in 0.0203 seconds.\n",
      "\n",
      "--- Output ---\n"
     ]
    },
    {
     "data": {
      "application/vnd.microsoft.datawrangler.viewer.v0+json": {
       "columns": [
        {
         "name": "index",
         "rawType": "int64",
         "type": "integer"
        },
        {
         "name": "user",
         "rawType": "object",
         "type": "string"
        },
        {
         "name": "action",
         "rawType": "object",
         "type": "string"
        },
        {
         "name": "target",
         "rawType": "object",
         "type": "string"
        }
       ],
       "ref": "9ad5dd9f-57d8-44a6-80e1-1e14b427998c",
       "rows": [
        [
         "0",
         "ACTIONID",
         "TARGETID",
         "USERID"
        ],
        [
         "1",
         "0",
         "0",
         "0"
        ],
        [
         "2",
         "1",
         "1",
         "0"
        ],
        [
         "3",
         "2",
         "2",
         "0"
        ],
        [
         "4",
         "3",
         "1",
         "0"
        ],
        [
         "5",
         "4",
         "2",
         "0"
        ],
        [
         "6",
         "5",
         "3",
         "0"
        ],
        [
         "7",
         "6",
         "4",
         "0"
        ],
        [
         "8",
         "7",
         "5",
         "0"
        ],
        [
         "9",
         "8",
         "6",
         "0"
        ],
        [
         "10",
         "9",
         "7",
         "0"
        ],
        [
         "11",
         "10",
         "8",
         "0"
        ],
        [
         "12",
         "11",
         "9",
         "0"
        ],
        [
         "13",
         "12",
         "0",
         "0"
        ],
        [
         "14",
         "13",
         "9",
         "0"
        ],
        [
         "15",
         "14",
         "2",
         "0"
        ],
        [
         "16",
         "15",
         "1",
         "0"
        ],
        [
         "17",
         "16",
         "10",
         "0"
        ],
        [
         "18",
         "1876",
         "10",
         "0"
        ],
        [
         "19",
         "1879",
         "10",
         "0"
        ],
        [
         "20",
         "1881",
         "7",
         "0"
        ],
        [
         "21",
         "4930",
         "8",
         "0"
        ],
        [
         "22",
         "4931",
         "3",
         "0"
        ],
        [
         "23",
         "4937",
         "4",
         "0"
        ],
        [
         "24",
         "4938",
         "13",
         "0"
        ]
       ],
       "shape": {
        "columns": 3,
        "rows": 25
       }
      },
      "text/html": [
       "<div>\n",
       "<style scoped>\n",
       "    .dataframe tbody tr th:only-of-type {\n",
       "        vertical-align: middle;\n",
       "    }\n",
       "\n",
       "    .dataframe tbody tr th {\n",
       "        vertical-align: top;\n",
       "    }\n",
       "\n",
       "    .dataframe thead th {\n",
       "        text-align: right;\n",
       "    }\n",
       "</style>\n",
       "<table border=\"1\" class=\"dataframe\">\n",
       "  <thead>\n",
       "    <tr style=\"text-align: right;\">\n",
       "      <th></th>\n",
       "      <th>user</th>\n",
       "      <th>action</th>\n",
       "      <th>target</th>\n",
       "    </tr>\n",
       "  </thead>\n",
       "  <tbody>\n",
       "    <tr>\n",
       "      <th>0</th>\n",
       "      <td>ACTIONID</td>\n",
       "      <td>TARGETID</td>\n",
       "      <td>USERID</td>\n",
       "    </tr>\n",
       "    <tr>\n",
       "      <th>1</th>\n",
       "      <td>0</td>\n",
       "      <td>0</td>\n",
       "      <td>0</td>\n",
       "    </tr>\n",
       "    <tr>\n",
       "      <th>2</th>\n",
       "      <td>1</td>\n",
       "      <td>1</td>\n",
       "      <td>0</td>\n",
       "    </tr>\n",
       "    <tr>\n",
       "      <th>3</th>\n",
       "      <td>2</td>\n",
       "      <td>2</td>\n",
       "      <td>0</td>\n",
       "    </tr>\n",
       "    <tr>\n",
       "      <th>4</th>\n",
       "      <td>3</td>\n",
       "      <td>1</td>\n",
       "      <td>0</td>\n",
       "    </tr>\n",
       "    <tr>\n",
       "      <th>5</th>\n",
       "      <td>4</td>\n",
       "      <td>2</td>\n",
       "      <td>0</td>\n",
       "    </tr>\n",
       "    <tr>\n",
       "      <th>6</th>\n",
       "      <td>5</td>\n",
       "      <td>3</td>\n",
       "      <td>0</td>\n",
       "    </tr>\n",
       "    <tr>\n",
       "      <th>7</th>\n",
       "      <td>6</td>\n",
       "      <td>4</td>\n",
       "      <td>0</td>\n",
       "    </tr>\n",
       "    <tr>\n",
       "      <th>8</th>\n",
       "      <td>7</td>\n",
       "      <td>5</td>\n",
       "      <td>0</td>\n",
       "    </tr>\n",
       "    <tr>\n",
       "      <th>9</th>\n",
       "      <td>8</td>\n",
       "      <td>6</td>\n",
       "      <td>0</td>\n",
       "    </tr>\n",
       "    <tr>\n",
       "      <th>10</th>\n",
       "      <td>9</td>\n",
       "      <td>7</td>\n",
       "      <td>0</td>\n",
       "    </tr>\n",
       "    <tr>\n",
       "      <th>11</th>\n",
       "      <td>10</td>\n",
       "      <td>8</td>\n",
       "      <td>0</td>\n",
       "    </tr>\n",
       "    <tr>\n",
       "      <th>12</th>\n",
       "      <td>11</td>\n",
       "      <td>9</td>\n",
       "      <td>0</td>\n",
       "    </tr>\n",
       "    <tr>\n",
       "      <th>13</th>\n",
       "      <td>12</td>\n",
       "      <td>0</td>\n",
       "      <td>0</td>\n",
       "    </tr>\n",
       "    <tr>\n",
       "      <th>14</th>\n",
       "      <td>13</td>\n",
       "      <td>9</td>\n",
       "      <td>0</td>\n",
       "    </tr>\n",
       "    <tr>\n",
       "      <th>15</th>\n",
       "      <td>14</td>\n",
       "      <td>2</td>\n",
       "      <td>0</td>\n",
       "    </tr>\n",
       "    <tr>\n",
       "      <th>16</th>\n",
       "      <td>15</td>\n",
       "      <td>1</td>\n",
       "      <td>0</td>\n",
       "    </tr>\n",
       "    <tr>\n",
       "      <th>17</th>\n",
       "      <td>16</td>\n",
       "      <td>10</td>\n",
       "      <td>0</td>\n",
       "    </tr>\n",
       "    <tr>\n",
       "      <th>18</th>\n",
       "      <td>1876</td>\n",
       "      <td>10</td>\n",
       "      <td>0</td>\n",
       "    </tr>\n",
       "    <tr>\n",
       "      <th>19</th>\n",
       "      <td>1879</td>\n",
       "      <td>10</td>\n",
       "      <td>0</td>\n",
       "    </tr>\n",
       "    <tr>\n",
       "      <th>20</th>\n",
       "      <td>1881</td>\n",
       "      <td>7</td>\n",
       "      <td>0</td>\n",
       "    </tr>\n",
       "    <tr>\n",
       "      <th>21</th>\n",
       "      <td>4930</td>\n",
       "      <td>8</td>\n",
       "      <td>0</td>\n",
       "    </tr>\n",
       "    <tr>\n",
       "      <th>22</th>\n",
       "      <td>4931</td>\n",
       "      <td>3</td>\n",
       "      <td>0</td>\n",
       "    </tr>\n",
       "    <tr>\n",
       "      <th>23</th>\n",
       "      <td>4937</td>\n",
       "      <td>4</td>\n",
       "      <td>0</td>\n",
       "    </tr>\n",
       "    <tr>\n",
       "      <th>24</th>\n",
       "      <td>4938</td>\n",
       "      <td>13</td>\n",
       "      <td>0</td>\n",
       "    </tr>\n",
       "  </tbody>\n",
       "</table>\n",
       "</div>"
      ],
      "text/plain": [
       "        user    action  target\n",
       "0   ACTIONID  TARGETID  USERID\n",
       "1          0         0       0\n",
       "2          1         1       0\n",
       "3          2         2       0\n",
       "4          3         1       0\n",
       "5          4         2       0\n",
       "6          5         3       0\n",
       "7          6         4       0\n",
       "8          7         5       0\n",
       "9          8         6       0\n",
       "10         9         7       0\n",
       "11        10         8       0\n",
       "12        11         9       0\n",
       "13        12         0       0\n",
       "14        13         9       0\n",
       "15        14         2       0\n",
       "16        15         1       0\n",
       "17        16        10       0\n",
       "18      1876        10       0\n",
       "19      1879        10       0\n",
       "20      1881         7       0\n",
       "21      4930         8       0\n",
       "22      4931         3       0\n",
       "23      4937         4       0\n",
       "24      4938        13       0"
      ]
     },
     "metadata": {},
     "output_type": "display_data"
    },
    {
     "name": "stdout",
     "output_type": "stream",
     "text": [
      "\n",
      "🔹 Count all users\n",
      "✅ Saved: results\\query_02_Count_all_users.csv\n",
      "⏱️ Query executed in 0.0070 seconds.\n",
      "\n",
      "--- Output ---\n"
     ]
    },
    {
     "data": {
      "application/vnd.microsoft.datawrangler.viewer.v0+json": {
       "columns": [
        {
         "name": "index",
         "rawType": "int64",
         "type": "integer"
        },
        {
         "name": "user_count",
         "rawType": "int64",
         "type": "integer"
        }
       ],
       "ref": "97dbabce-d527-410d-bc50-bd2174788b3f",
       "rows": [
        [
         "0",
         "411750"
        ]
       ],
       "shape": {
        "columns": 1,
        "rows": 1
       }
      },
      "text/html": [
       "<div>\n",
       "<style scoped>\n",
       "    .dataframe tbody tr th:only-of-type {\n",
       "        vertical-align: middle;\n",
       "    }\n",
       "\n",
       "    .dataframe tbody tr th {\n",
       "        vertical-align: top;\n",
       "    }\n",
       "\n",
       "    .dataframe thead th {\n",
       "        text-align: right;\n",
       "    }\n",
       "</style>\n",
       "<table border=\"1\" class=\"dataframe\">\n",
       "  <thead>\n",
       "    <tr style=\"text-align: right;\">\n",
       "      <th></th>\n",
       "      <th>user_count</th>\n",
       "    </tr>\n",
       "  </thead>\n",
       "  <tbody>\n",
       "    <tr>\n",
       "      <th>0</th>\n",
       "      <td>411750</td>\n",
       "    </tr>\n",
       "  </tbody>\n",
       "</table>\n",
       "</div>"
      ],
      "text/plain": [
       "   user_count\n",
       "0      411750"
      ]
     },
     "metadata": {},
     "output_type": "display_data"
    },
    {
     "name": "stdout",
     "output_type": "stream",
     "text": [
      "\n",
      "🔹 Count all targets\n",
      "✅ Saved: results\\query_03_Count_all_targets.csv\n",
      "⏱️ Query executed in 0.0077 seconds.\n",
      "\n",
      "--- Output ---\n"
     ]
    },
    {
     "data": {
      "application/vnd.microsoft.datawrangler.viewer.v0+json": {
       "columns": [
        {
         "name": "index",
         "rawType": "int64",
         "type": "integer"
        },
        {
         "name": "target_count",
         "rawType": "int64",
         "type": "integer"
        }
       ],
       "ref": "17b8b222-bfdd-4f5d-a2cc-141bc9add596",
       "rows": [
        [
         "0",
         "7048"
        ]
       ],
       "shape": {
        "columns": 1,
        "rows": 1
       }
      },
      "text/html": [
       "<div>\n",
       "<style scoped>\n",
       "    .dataframe tbody tr th:only-of-type {\n",
       "        vertical-align: middle;\n",
       "    }\n",
       "\n",
       "    .dataframe tbody tr th {\n",
       "        vertical-align: top;\n",
       "    }\n",
       "\n",
       "    .dataframe thead th {\n",
       "        text-align: right;\n",
       "    }\n",
       "</style>\n",
       "<table border=\"1\" class=\"dataframe\">\n",
       "  <thead>\n",
       "    <tr style=\"text-align: right;\">\n",
       "      <th></th>\n",
       "      <th>target_count</th>\n",
       "    </tr>\n",
       "  </thead>\n",
       "  <tbody>\n",
       "    <tr>\n",
       "      <th>0</th>\n",
       "      <td>7048</td>\n",
       "    </tr>\n",
       "  </tbody>\n",
       "</table>\n",
       "</div>"
      ],
      "text/plain": [
       "   target_count\n",
       "0          7048"
      ]
     },
     "metadata": {},
     "output_type": "display_data"
    },
    {
     "name": "stdout",
     "output_type": "stream",
     "text": [
      "\n",
      "🔹 Count all actions\n",
      "✅ Saved: results\\query_04_Count_all_actions.csv\n",
      "⏱️ Query executed in 0.0110 seconds.\n",
      "\n",
      "--- Output ---\n"
     ]
    },
    {
     "data": {
      "application/vnd.microsoft.datawrangler.viewer.v0+json": {
       "columns": [
        {
         "name": "index",
         "rawType": "int64",
         "type": "integer"
        },
        {
         "name": "action_count",
         "rawType": "int64",
         "type": "integer"
        }
       ],
       "ref": "dec9cba6-426e-423e-bf4b-a87509d88b51",
       "rows": [
        [
         "0",
         "410000"
        ]
       ],
       "shape": {
        "columns": 1,
        "rows": 1
       }
      },
      "text/html": [
       "<div>\n",
       "<style scoped>\n",
       "    .dataframe tbody tr th:only-of-type {\n",
       "        vertical-align: middle;\n",
       "    }\n",
       "\n",
       "    .dataframe tbody tr th {\n",
       "        vertical-align: top;\n",
       "    }\n",
       "\n",
       "    .dataframe thead th {\n",
       "        text-align: right;\n",
       "    }\n",
       "</style>\n",
       "<table border=\"1\" class=\"dataframe\">\n",
       "  <thead>\n",
       "    <tr style=\"text-align: right;\">\n",
       "      <th></th>\n",
       "      <th>action_count</th>\n",
       "    </tr>\n",
       "  </thead>\n",
       "  <tbody>\n",
       "    <tr>\n",
       "      <th>0</th>\n",
       "      <td>410000</td>\n",
       "    </tr>\n",
       "  </tbody>\n",
       "</table>\n",
       "</div>"
      ],
      "text/plain": [
       "   action_count\n",
       "0        410000"
      ]
     },
     "metadata": {},
     "output_type": "display_data"
    },
    {
     "name": "stdout",
     "output_type": "stream",
     "text": [
      "\n",
      "🔹 Actions and targets of a specific user\n",
      "✅ Saved: results\\query_05_Actions_and_targets_of_a_specific_user.csv\n",
      "⏱️ Query executed in 0.0180 seconds.\n",
      "\n",
      "--- Output ---\n"
     ]
    },
    {
     "data": {
      "application/vnd.microsoft.datawrangler.viewer.v0+json": {
       "columns": [
        {
         "name": "index",
         "rawType": "int64",
         "type": "integer"
        },
        {
         "name": "action_id",
         "rawType": "object",
         "type": "string"
        },
        {
         "name": "target_id",
         "rawType": "object",
         "type": "string"
        }
       ],
       "ref": "742c408a-d858-4b0c-8201-a04553c99b56",
       "rows": [
        [
         "0",
         "13",
         "214"
        ]
       ],
       "shape": {
        "columns": 2,
        "rows": 1
       }
      },
      "text/html": [
       "<div>\n",
       "<style scoped>\n",
       "    .dataframe tbody tr th:only-of-type {\n",
       "        vertical-align: middle;\n",
       "    }\n",
       "\n",
       "    .dataframe tbody tr th {\n",
       "        vertical-align: top;\n",
       "    }\n",
       "\n",
       "    .dataframe thead th {\n",
       "        text-align: right;\n",
       "    }\n",
       "</style>\n",
       "<table border=\"1\" class=\"dataframe\">\n",
       "  <thead>\n",
       "    <tr style=\"text-align: right;\">\n",
       "      <th></th>\n",
       "      <th>action_id</th>\n",
       "      <th>target_id</th>\n",
       "    </tr>\n",
       "  </thead>\n",
       "  <tbody>\n",
       "    <tr>\n",
       "      <th>0</th>\n",
       "      <td>13</td>\n",
       "      <td>214</td>\n",
       "    </tr>\n",
       "  </tbody>\n",
       "</table>\n",
       "</div>"
      ],
      "text/plain": [
       "  action_id target_id\n",
       "0        13       214"
      ]
     },
     "metadata": {},
     "output_type": "display_data"
    },
    {
     "name": "stdout",
     "output_type": "stream",
     "text": [
      "\n",
      "🔹 Count actions per user\n",
      "✅ Saved: results\\query_06_Count_actions_per_user.csv\n",
      "⏱️ Query executed in 0.0091 seconds.\n",
      "\n",
      "--- Output ---\n"
     ]
    },
    {
     "data": {
      "application/vnd.microsoft.datawrangler.viewer.v0+json": {
       "columns": [
        {
         "name": "index",
         "rawType": "int64",
         "type": "integer"
        },
        {
         "name": "user_id",
         "rawType": "object",
         "type": "string"
        },
        {
         "name": "action_count",
         "rawType": "int64",
         "type": "integer"
        }
       ],
       "ref": "046ab345-a1c5-4009-abd9-a2fcf68ca679",
       "rows": [
        [
         "0",
         "ACTIONID",
         "1"
        ],
        [
         "1",
         "0",
         "1"
        ],
        [
         "2",
         "1",
         "1"
        ],
        [
         "3",
         "2",
         "1"
        ],
        [
         "4",
         "3",
         "1"
        ],
        [
         "5",
         "4",
         "1"
        ],
        [
         "6",
         "5",
         "1"
        ],
        [
         "7",
         "6",
         "1"
        ],
        [
         "8",
         "7",
         "1"
        ],
        [
         "9",
         "8",
         "1"
        ],
        [
         "10",
         "9",
         "1"
        ],
        [
         "11",
         "10",
         "1"
        ],
        [
         "12",
         "11",
         "1"
        ],
        [
         "13",
         "12",
         "1"
        ],
        [
         "14",
         "13",
         "1"
        ],
        [
         "15",
         "14",
         "1"
        ],
        [
         "16",
         "15",
         "1"
        ],
        [
         "17",
         "16",
         "1"
        ],
        [
         "18",
         "17",
         "1"
        ],
        [
         "19",
         "18",
         "1"
        ],
        [
         "20",
         "19",
         "1"
        ],
        [
         "21",
         "20",
         "1"
        ],
        [
         "22",
         "21",
         "1"
        ],
        [
         "23",
         "22",
         "1"
        ],
        [
         "24",
         "23",
         "1"
        ],
        [
         "25",
         "24",
         "1"
        ],
        [
         "26",
         "25",
         "1"
        ],
        [
         "27",
         "26",
         "1"
        ],
        [
         "28",
         "27",
         "1"
        ],
        [
         "29",
         "28",
         "1"
        ],
        [
         "30",
         "29",
         "1"
        ],
        [
         "31",
         "30",
         "1"
        ],
        [
         "32",
         "31",
         "1"
        ],
        [
         "33",
         "32",
         "1"
        ],
        [
         "34",
         "33",
         "1"
        ],
        [
         "35",
         "34",
         "1"
        ],
        [
         "36",
         "35",
         "1"
        ],
        [
         "37",
         "36",
         "1"
        ],
        [
         "38",
         "37",
         "1"
        ],
        [
         "39",
         "38",
         "1"
        ],
        [
         "40",
         "39",
         "1"
        ],
        [
         "41",
         "40",
         "1"
        ],
        [
         "42",
         "41",
         "1"
        ],
        [
         "43",
         "42",
         "1"
        ],
        [
         "44",
         "43",
         "1"
        ],
        [
         "45",
         "44",
         "1"
        ],
        [
         "46",
         "45",
         "1"
        ],
        [
         "47",
         "46",
         "1"
        ],
        [
         "48",
         "47",
         "1"
        ],
        [
         "49",
         "48",
         "1"
        ]
       ],
       "shape": {
        "columns": 2,
        "rows": 410000
       }
      },
      "text/html": [
       "<div>\n",
       "<style scoped>\n",
       "    .dataframe tbody tr th:only-of-type {\n",
       "        vertical-align: middle;\n",
       "    }\n",
       "\n",
       "    .dataframe tbody tr th {\n",
       "        vertical-align: top;\n",
       "    }\n",
       "\n",
       "    .dataframe thead th {\n",
       "        text-align: right;\n",
       "    }\n",
       "</style>\n",
       "<table border=\"1\" class=\"dataframe\">\n",
       "  <thead>\n",
       "    <tr style=\"text-align: right;\">\n",
       "      <th></th>\n",
       "      <th>user_id</th>\n",
       "      <th>action_count</th>\n",
       "    </tr>\n",
       "  </thead>\n",
       "  <tbody>\n",
       "    <tr>\n",
       "      <th>0</th>\n",
       "      <td>ACTIONID</td>\n",
       "      <td>1</td>\n",
       "    </tr>\n",
       "    <tr>\n",
       "      <th>1</th>\n",
       "      <td>0</td>\n",
       "      <td>1</td>\n",
       "    </tr>\n",
       "    <tr>\n",
       "      <th>2</th>\n",
       "      <td>1</td>\n",
       "      <td>1</td>\n",
       "    </tr>\n",
       "    <tr>\n",
       "      <th>3</th>\n",
       "      <td>2</td>\n",
       "      <td>1</td>\n",
       "    </tr>\n",
       "    <tr>\n",
       "      <th>4</th>\n",
       "      <td>3</td>\n",
       "      <td>1</td>\n",
       "    </tr>\n",
       "    <tr>\n",
       "      <th>...</th>\n",
       "      <td>...</td>\n",
       "      <td>...</td>\n",
       "    </tr>\n",
       "    <tr>\n",
       "      <th>409995</th>\n",
       "      <td>409994</td>\n",
       "      <td>1</td>\n",
       "    </tr>\n",
       "    <tr>\n",
       "      <th>409996</th>\n",
       "      <td>409995</td>\n",
       "      <td>1</td>\n",
       "    </tr>\n",
       "    <tr>\n",
       "      <th>409997</th>\n",
       "      <td>409996</td>\n",
       "      <td>1</td>\n",
       "    </tr>\n",
       "    <tr>\n",
       "      <th>409998</th>\n",
       "      <td>409997</td>\n",
       "      <td>1</td>\n",
       "    </tr>\n",
       "    <tr>\n",
       "      <th>409999</th>\n",
       "      <td>409998</td>\n",
       "      <td>1</td>\n",
       "    </tr>\n",
       "  </tbody>\n",
       "</table>\n",
       "<p>410000 rows × 2 columns</p>\n",
       "</div>"
      ],
      "text/plain": [
       "         user_id  action_count\n",
       "0       ACTIONID             1\n",
       "1              0             1\n",
       "2              1             1\n",
       "3              2             1\n",
       "4              3             1\n",
       "...          ...           ...\n",
       "409995    409994             1\n",
       "409996    409995             1\n",
       "409997    409996             1\n",
       "409998    409997             1\n",
       "409999    409998             1\n",
       "\n",
       "[410000 rows x 2 columns]"
      ]
     },
     "metadata": {},
     "output_type": "display_data"
    },
    {
     "name": "stdout",
     "output_type": "stream",
     "text": [
      "\n",
      "🔹 Count users per target\n",
      "✅ Saved: results\\query_07_Count_users_per_target.csv\n",
      "⏱️ Query executed in 0.5370 seconds.\n",
      "\n",
      "--- Output ---\n"
     ]
    },
    {
     "data": {
      "application/vnd.microsoft.datawrangler.viewer.v0+json": {
       "columns": [
        {
         "name": "index",
         "rawType": "int64",
         "type": "integer"
        },
        {
         "name": "target_id",
         "rawType": "object",
         "type": "string"
        },
        {
         "name": "user_count",
         "rawType": "int64",
         "type": "integer"
        }
       ],
       "ref": "ba394f06-7b8c-4259-b216-5a25f014d1a3",
       "rows": [
        [
         "0",
         "USERID",
         "1"
        ],
        [
         "1",
         "0",
         "76"
        ],
        [
         "2",
         "1",
         "26"
        ],
        [
         "3",
         "2",
         "189"
        ],
        [
         "4",
         "3",
         "6"
        ],
        [
         "5",
         "4",
         "9"
        ],
        [
         "6",
         "5",
         "88"
        ],
        [
         "7",
         "6",
         "30"
        ],
        [
         "8",
         "7",
         "149"
        ],
        [
         "9",
         "8",
         "9"
        ],
        [
         "10",
         "9",
         "6"
        ],
        [
         "11",
         "10",
         "135"
        ],
        [
         "12",
         "11",
         "62"
        ],
        [
         "13",
         "12",
         "144"
        ],
        [
         "14",
         "13",
         "30"
        ],
        [
         "15",
         "14",
         "176"
        ],
        [
         "16",
         "15",
         "128"
        ],
        [
         "17",
         "16",
         "56"
        ],
        [
         "18",
         "17",
         "149"
        ],
        [
         "19",
         "18",
         "77"
        ],
        [
         "20",
         "19",
         "6"
        ],
        [
         "21",
         "20",
         "56"
        ],
        [
         "22",
         "21",
         "104"
        ],
        [
         "23",
         "22",
         "111"
        ],
        [
         "24",
         "23",
         "181"
        ],
        [
         "25",
         "24",
         "27"
        ],
        [
         "26",
         "25",
         "148"
        ],
        [
         "27",
         "26",
         "84"
        ],
        [
         "28",
         "27",
         "217"
        ],
        [
         "29",
         "28",
         "45"
        ],
        [
         "30",
         "29",
         "15"
        ],
        [
         "31",
         "30",
         "32"
        ],
        [
         "32",
         "31",
         "49"
        ],
        [
         "33",
         "32",
         "88"
        ],
        [
         "34",
         "33",
         "46"
        ],
        [
         "35",
         "34",
         "14"
        ],
        [
         "36",
         "35",
         "148"
        ],
        [
         "37",
         "36",
         "17"
        ],
        [
         "38",
         "37",
         "11"
        ],
        [
         "39",
         "38",
         "95"
        ],
        [
         "40",
         "39",
         "21"
        ],
        [
         "41",
         "40",
         "11"
        ],
        [
         "42",
         "41",
         "124"
        ],
        [
         "43",
         "42",
         "5"
        ],
        [
         "44",
         "43",
         "137"
        ],
        [
         "45",
         "44",
         "22"
        ],
        [
         "46",
         "45",
         "65"
        ],
        [
         "47",
         "46",
         "12"
        ],
        [
         "48",
         "47",
         "10"
        ],
        [
         "49",
         "48",
         "115"
        ]
       ],
       "shape": {
        "columns": 2,
        "rows": 7043
       }
      },
      "text/html": [
       "<div>\n",
       "<style scoped>\n",
       "    .dataframe tbody tr th:only-of-type {\n",
       "        vertical-align: middle;\n",
       "    }\n",
       "\n",
       "    .dataframe tbody tr th {\n",
       "        vertical-align: top;\n",
       "    }\n",
       "\n",
       "    .dataframe thead th {\n",
       "        text-align: right;\n",
       "    }\n",
       "</style>\n",
       "<table border=\"1\" class=\"dataframe\">\n",
       "  <thead>\n",
       "    <tr style=\"text-align: right;\">\n",
       "      <th></th>\n",
       "      <th>target_id</th>\n",
       "      <th>user_count</th>\n",
       "    </tr>\n",
       "  </thead>\n",
       "  <tbody>\n",
       "    <tr>\n",
       "      <th>0</th>\n",
       "      <td>USERID</td>\n",
       "      <td>1</td>\n",
       "    </tr>\n",
       "    <tr>\n",
       "      <th>1</th>\n",
       "      <td>0</td>\n",
       "      <td>76</td>\n",
       "    </tr>\n",
       "    <tr>\n",
       "      <th>2</th>\n",
       "      <td>1</td>\n",
       "      <td>26</td>\n",
       "    </tr>\n",
       "    <tr>\n",
       "      <th>3</th>\n",
       "      <td>2</td>\n",
       "      <td>189</td>\n",
       "    </tr>\n",
       "    <tr>\n",
       "      <th>4</th>\n",
       "      <td>3</td>\n",
       "      <td>6</td>\n",
       "    </tr>\n",
       "    <tr>\n",
       "      <th>...</th>\n",
       "      <td>...</td>\n",
       "      <td>...</td>\n",
       "    </tr>\n",
       "    <tr>\n",
       "      <th>7038</th>\n",
       "      <td>7037</td>\n",
       "      <td>6</td>\n",
       "    </tr>\n",
       "    <tr>\n",
       "      <th>7039</th>\n",
       "      <td>7038</td>\n",
       "      <td>8</td>\n",
       "    </tr>\n",
       "    <tr>\n",
       "      <th>7040</th>\n",
       "      <td>7039</td>\n",
       "      <td>6</td>\n",
       "    </tr>\n",
       "    <tr>\n",
       "      <th>7041</th>\n",
       "      <td>7040</td>\n",
       "      <td>12</td>\n",
       "    </tr>\n",
       "    <tr>\n",
       "      <th>7042</th>\n",
       "      <td>7041</td>\n",
       "      <td>4</td>\n",
       "    </tr>\n",
       "  </tbody>\n",
       "</table>\n",
       "<p>7043 rows × 2 columns</p>\n",
       "</div>"
      ],
      "text/plain": [
       "     target_id  user_count\n",
       "0       USERID           1\n",
       "1            0          76\n",
       "2            1          26\n",
       "3            2         189\n",
       "4            3           6\n",
       "...        ...         ...\n",
       "7038      7037           6\n",
       "7039      7038           8\n",
       "7040      7039           6\n",
       "7041      7040          12\n",
       "7042      7041           4\n",
       "\n",
       "[7043 rows x 2 columns]"
      ]
     },
     "metadata": {},
     "output_type": "display_data"
    },
    {
     "name": "stdout",
     "output_type": "stream",
     "text": [
      "\n",
      "🔹 Average actions per user\n",
      "✅ Saved: results\\query_08_Average_actions_per_user.csv\n",
      "⏱️ Query executed in 0.0087 seconds.\n",
      "\n",
      "--- Output ---\n"
     ]
    },
    {
     "data": {
      "application/vnd.microsoft.datawrangler.viewer.v0+json": {
       "columns": [
        {
         "name": "index",
         "rawType": "int64",
         "type": "integer"
        },
        {
         "name": "avg_actions_per_user",
         "rawType": "float64",
         "type": "float"
        }
       ],
       "ref": "e6549885-6b9f-40ae-b66f-46caac720325",
       "rows": [
        [
         "0",
         "1.0"
        ]
       ],
       "shape": {
        "columns": 1,
        "rows": 1
       }
      },
      "text/html": [
       "<div>\n",
       "<style scoped>\n",
       "    .dataframe tbody tr th:only-of-type {\n",
       "        vertical-align: middle;\n",
       "    }\n",
       "\n",
       "    .dataframe tbody tr th {\n",
       "        vertical-align: top;\n",
       "    }\n",
       "\n",
       "    .dataframe thead th {\n",
       "        text-align: right;\n",
       "    }\n",
       "</style>\n",
       "<table border=\"1\" class=\"dataframe\">\n",
       "  <thead>\n",
       "    <tr style=\"text-align: right;\">\n",
       "      <th></th>\n",
       "      <th>avg_actions_per_user</th>\n",
       "    </tr>\n",
       "  </thead>\n",
       "  <tbody>\n",
       "    <tr>\n",
       "      <th>0</th>\n",
       "      <td>1.0</td>\n",
       "    </tr>\n",
       "  </tbody>\n",
       "</table>\n",
       "</div>"
      ],
      "text/plain": [
       "   avg_actions_per_user\n",
       "0                   1.0"
      ]
     },
     "metadata": {},
     "output_type": "display_data"
    },
    {
     "name": "stdout",
     "output_type": "stream",
     "text": [
      "\n",
      "🔹 Users and targets with positive Feature2\n",
      "✅ Saved: results\\query_09_Users_and_targets_with_positive_Feature2.csv\n",
      "⏱️ Query executed in 0.0119 seconds.\n",
      "\n",
      "--- Output ---\n"
     ]
    },
    {
     "data": {
      "application/vnd.microsoft.datawrangler.viewer.v0+json": {
       "columns": [
        {
         "name": "index",
         "rawType": "int64",
         "type": "integer"
        },
        {
         "name": "user_id",
         "rawType": "object",
         "type": "string"
        },
        {
         "name": "target_id",
         "rawType": "object",
         "type": "string"
        }
       ],
       "ref": "4d0a23c1-12dd-4be8-b89d-024cb157e773",
       "rows": [
        [
         "0",
         "4938",
         "0"
        ],
        [
         "1",
         "4940",
         "0"
        ],
        [
         "2",
         "4955",
         "0"
        ],
        [
         "3",
         "4957",
         "0"
        ],
        [
         "4",
         "4972",
         "0"
        ],
        [
         "5",
         "4974",
         "0"
        ],
        [
         "6",
         "9939",
         "0"
        ],
        [
         "7",
         "39028",
         "0"
        ],
        [
         "8",
         "60517",
         "0"
        ],
        [
         "9",
         "78372",
         "0"
        ],
        [
         "10",
         "102090",
         "0"
        ],
        [
         "11",
         "372045",
         "0"
        ],
        [
         "12",
         "51216",
         "1"
        ],
        [
         "13",
         "51218",
         "1"
        ],
        [
         "14",
         "51221",
         "1"
        ],
        [
         "15",
         "3647",
         "2"
        ],
        [
         "16",
         "10116",
         "2"
        ],
        [
         "17",
         "10403",
         "2"
        ],
        [
         "18",
         "10751",
         "2"
        ],
        [
         "19",
         "14428",
         "2"
        ],
        [
         "20",
         "14441",
         "2"
        ],
        [
         "21",
         "14576",
         "2"
        ],
        [
         "22",
         "15114",
         "2"
        ],
        [
         "23",
         "95250",
         "2"
        ],
        [
         "24",
         "95454",
         "2"
        ],
        [
         "25",
         "95627",
         "2"
        ],
        [
         "26",
         "95810",
         "2"
        ],
        [
         "27",
         "96017",
         "2"
        ],
        [
         "28",
         "96115",
         "2"
        ],
        [
         "29",
         "118026",
         "2"
        ],
        [
         "30",
         "118207",
         "2"
        ],
        [
         "31",
         "118288",
         "2"
        ],
        [
         "32",
         "118365",
         "2"
        ],
        [
         "33",
         "118469",
         "2"
        ],
        [
         "34",
         "118602",
         "2"
        ],
        [
         "35",
         "200649",
         "2"
        ],
        [
         "36",
         "200879",
         "2"
        ],
        [
         "37",
         "200892",
         "2"
        ],
        [
         "38",
         "201407",
         "2"
        ],
        [
         "39",
         "201557",
         "2"
        ],
        [
         "40",
         "201884",
         "2"
        ],
        [
         "41",
         "202437",
         "2"
        ],
        [
         "42",
         "202625",
         "2"
        ],
        [
         "43",
         "282804",
         "2"
        ],
        [
         "44",
         "344068",
         "2"
        ],
        [
         "45",
         "358623",
         "2"
        ],
        [
         "46",
         "358901",
         "2"
        ],
        [
         "47",
         "359044",
         "2"
        ],
        [
         "48",
         "359123",
         "2"
        ],
        [
         "49",
         "359129",
         "2"
        ]
       ],
       "shape": {
        "columns": 2,
        "rows": 69780
       }
      },
      "text/html": [
       "<div>\n",
       "<style scoped>\n",
       "    .dataframe tbody tr th:only-of-type {\n",
       "        vertical-align: middle;\n",
       "    }\n",
       "\n",
       "    .dataframe tbody tr th {\n",
       "        vertical-align: top;\n",
       "    }\n",
       "\n",
       "    .dataframe thead th {\n",
       "        text-align: right;\n",
       "    }\n",
       "</style>\n",
       "<table border=\"1\" class=\"dataframe\">\n",
       "  <thead>\n",
       "    <tr style=\"text-align: right;\">\n",
       "      <th></th>\n",
       "      <th>user_id</th>\n",
       "      <th>target_id</th>\n",
       "    </tr>\n",
       "  </thead>\n",
       "  <tbody>\n",
       "    <tr>\n",
       "      <th>0</th>\n",
       "      <td>4938</td>\n",
       "      <td>0</td>\n",
       "    </tr>\n",
       "    <tr>\n",
       "      <th>1</th>\n",
       "      <td>4940</td>\n",
       "      <td>0</td>\n",
       "    </tr>\n",
       "    <tr>\n",
       "      <th>2</th>\n",
       "      <td>4955</td>\n",
       "      <td>0</td>\n",
       "    </tr>\n",
       "    <tr>\n",
       "      <th>3</th>\n",
       "      <td>4957</td>\n",
       "      <td>0</td>\n",
       "    </tr>\n",
       "    <tr>\n",
       "      <th>4</th>\n",
       "      <td>4972</td>\n",
       "      <td>0</td>\n",
       "    </tr>\n",
       "    <tr>\n",
       "      <th>...</th>\n",
       "      <td>...</td>\n",
       "      <td>...</td>\n",
       "    </tr>\n",
       "    <tr>\n",
       "      <th>69775</th>\n",
       "      <td>404822</td>\n",
       "      <td>7035</td>\n",
       "    </tr>\n",
       "    <tr>\n",
       "      <th>69776</th>\n",
       "      <td>405118</td>\n",
       "      <td>7035</td>\n",
       "    </tr>\n",
       "    <tr>\n",
       "      <th>69777</th>\n",
       "      <td>405549</td>\n",
       "      <td>7035</td>\n",
       "    </tr>\n",
       "    <tr>\n",
       "      <th>69778</th>\n",
       "      <td>406319</td>\n",
       "      <td>7035</td>\n",
       "    </tr>\n",
       "    <tr>\n",
       "      <th>69779</th>\n",
       "      <td>404727</td>\n",
       "      <td>7038</td>\n",
       "    </tr>\n",
       "  </tbody>\n",
       "</table>\n",
       "<p>69780 rows × 2 columns</p>\n",
       "</div>"
      ],
      "text/plain": [
       "      user_id target_id\n",
       "0        4938         0\n",
       "1        4940         0\n",
       "2        4955         0\n",
       "3        4957         0\n",
       "4        4972         0\n",
       "...       ...       ...\n",
       "69775  404822      7035\n",
       "69776  405118      7035\n",
       "69777  405549      7035\n",
       "69778  406319      7035\n",
       "69779  404727      7038\n",
       "\n",
       "[69780 rows x 2 columns]"
      ]
     },
     "metadata": {},
     "output_type": "display_data"
    },
    {
     "name": "stdout",
     "output_type": "stream",
     "text": [
      "\n",
      "🔹 Count actions with label = 1 per target\n",
      "✅ Saved: results\\query_10_Count_actions_with_label_=_1_per_target.csv\n",
      "⏱️ Query executed in 0.0055 seconds.\n",
      "\n",
      "--- Output ---\n"
     ]
    },
    {
     "data": {
      "application/vnd.microsoft.datawrangler.viewer.v0+json": {
       "columns": [
        {
         "name": "index",
         "rawType": "int64",
         "type": "integer"
        },
        {
         "name": "target_id",
         "rawType": "object",
         "type": "string"
        },
        {
         "name": "positive_label_count",
         "rawType": "int64",
         "type": "integer"
        }
       ],
       "ref": "e17ddad6-4701-4351-84a1-17bfc11c3f2e",
       "rows": [
        [
         "0",
         "3",
         "1"
        ],
        [
         "1",
         "4",
         "1"
        ],
        [
         "2",
         "8",
         "1"
        ],
        [
         "3",
         "9",
         "1"
        ],
        [
         "4",
         "10",
         "1"
        ],
        [
         "5",
         "12",
         "1"
        ],
        [
         "6",
         "13",
         "1"
        ],
        [
         "7",
         "20",
         "1"
        ],
        [
         "8",
         "24",
         "1"
        ],
        [
         "9",
         "28",
         "1"
        ],
        [
         "10",
         "29",
         "1"
        ],
        [
         "11",
         "34",
         "1"
        ],
        [
         "12",
         "36",
         "1"
        ],
        [
         "13",
         "37",
         "1"
        ],
        [
         "14",
         "39",
         "1"
        ],
        [
         "15",
         "40",
         "1"
        ],
        [
         "16",
         "41",
         "1"
        ],
        [
         "17",
         "42",
         "1"
        ],
        [
         "18",
         "44",
         "1"
        ],
        [
         "19",
         "46",
         "1"
        ],
        [
         "20",
         "47",
         "1"
        ],
        [
         "21",
         "48",
         "1"
        ],
        [
         "22",
         "51",
         "1"
        ],
        [
         "23",
         "61",
         "1"
        ],
        [
         "24",
         "62",
         "1"
        ],
        [
         "25",
         "63",
         "1"
        ],
        [
         "26",
         "67",
         "1"
        ],
        [
         "27",
         "68",
         "1"
        ],
        [
         "28",
         "71",
         "1"
        ],
        [
         "29",
         "72",
         "1"
        ],
        [
         "30",
         "73",
         "1"
        ],
        [
         "31",
         "78",
         "1"
        ],
        [
         "32",
         "87",
         "1"
        ],
        [
         "33",
         "92",
         "1"
        ],
        [
         "34",
         "95",
         "1"
        ],
        [
         "35",
         "97",
         "1"
        ],
        [
         "36",
         "98",
         "1"
        ],
        [
         "37",
         "100",
         "1"
        ],
        [
         "38",
         "101",
         "1"
        ],
        [
         "39",
         "104",
         "1"
        ],
        [
         "40",
         "105",
         "1"
        ],
        [
         "41",
         "107",
         "1"
        ],
        [
         "42",
         "110",
         "1"
        ],
        [
         "43",
         "112",
         "1"
        ],
        [
         "44",
         "113",
         "1"
        ],
        [
         "45",
         "114",
         "1"
        ],
        [
         "46",
         "116",
         "1"
        ],
        [
         "47",
         "117",
         "1"
        ],
        [
         "48",
         "119",
         "1"
        ],
        [
         "49",
         "121",
         "1"
        ]
       ],
       "shape": {
        "columns": 2,
        "rows": 4048
       }
      },
      "text/html": [
       "<div>\n",
       "<style scoped>\n",
       "    .dataframe tbody tr th:only-of-type {\n",
       "        vertical-align: middle;\n",
       "    }\n",
       "\n",
       "    .dataframe tbody tr th {\n",
       "        vertical-align: top;\n",
       "    }\n",
       "\n",
       "    .dataframe thead th {\n",
       "        text-align: right;\n",
       "    }\n",
       "</style>\n",
       "<table border=\"1\" class=\"dataframe\">\n",
       "  <thead>\n",
       "    <tr style=\"text-align: right;\">\n",
       "      <th></th>\n",
       "      <th>target_id</th>\n",
       "      <th>positive_label_count</th>\n",
       "    </tr>\n",
       "  </thead>\n",
       "  <tbody>\n",
       "    <tr>\n",
       "      <th>0</th>\n",
       "      <td>3</td>\n",
       "      <td>1</td>\n",
       "    </tr>\n",
       "    <tr>\n",
       "      <th>1</th>\n",
       "      <td>4</td>\n",
       "      <td>1</td>\n",
       "    </tr>\n",
       "    <tr>\n",
       "      <th>2</th>\n",
       "      <td>8</td>\n",
       "      <td>1</td>\n",
       "    </tr>\n",
       "    <tr>\n",
       "      <th>3</th>\n",
       "      <td>9</td>\n",
       "      <td>1</td>\n",
       "    </tr>\n",
       "    <tr>\n",
       "      <th>4</th>\n",
       "      <td>10</td>\n",
       "      <td>1</td>\n",
       "    </tr>\n",
       "    <tr>\n",
       "      <th>...</th>\n",
       "      <td>...</td>\n",
       "      <td>...</td>\n",
       "    </tr>\n",
       "    <tr>\n",
       "      <th>4043</th>\n",
       "      <td>7034</td>\n",
       "      <td>1</td>\n",
       "    </tr>\n",
       "    <tr>\n",
       "      <th>4044</th>\n",
       "      <td>7035</td>\n",
       "      <td>1</td>\n",
       "    </tr>\n",
       "    <tr>\n",
       "      <th>4045</th>\n",
       "      <td>7037</td>\n",
       "      <td>1</td>\n",
       "    </tr>\n",
       "    <tr>\n",
       "      <th>4046</th>\n",
       "      <td>7038</td>\n",
       "      <td>1</td>\n",
       "    </tr>\n",
       "    <tr>\n",
       "      <th>4047</th>\n",
       "      <td>7039</td>\n",
       "      <td>1</td>\n",
       "    </tr>\n",
       "  </tbody>\n",
       "</table>\n",
       "<p>4048 rows × 2 columns</p>\n",
       "</div>"
      ],
      "text/plain": [
       "     target_id  positive_label_count\n",
       "0            3                     1\n",
       "1            4                     1\n",
       "2            8                     1\n",
       "3            9                     1\n",
       "4           10                     1\n",
       "...        ...                   ...\n",
       "4043      7034                     1\n",
       "4044      7035                     1\n",
       "4045      7037                     1\n",
       "4046      7038                     1\n",
       "4047      7039                     1\n",
       "\n",
       "[4048 rows x 2 columns]"
      ]
     },
     "metadata": {},
     "output_type": "display_data"
    }
   ],
   "source": [
    "run_queries_from_file(driver, \"cypher_queries.txt\", save_folder=\"results\")"
   ]
  },
  {
   "cell_type": "code",
   "execution_count": 33,
   "id": "6744f32a",
   "metadata": {},
   "outputs": [],
   "source": [
    "def visualize_graph_sample(driver, limit=50):\n",
    "    query = f\"\"\"\n",
    "    MATCH (u:User)-[r:PERFORMS]->(t:Target)\n",
    "    RETURN u.id AS user, t.id AS target\n",
    "    LIMIT {limit}\n",
    "    \"\"\"\n",
    "    with driver.session(database=\"neo4j\") as session:\n",
    "        result = session.run(query)\n",
    "        edges = [(record[\"user\"], record[\"target\"]) for record in result]\n",
    "\n",
    "    G = nx.DiGraph()\n",
    "    G.add_edges_from(edges)\n",
    "\n",
    "    plt.figure(figsize=(12, 8))\n",
    "    pos = nx.spring_layout(G, k=0.5, seed=2025)\n",
    "    user_nodes = {u for u, _ in edges}\n",
    "    target_nodes = {t for _, t in edges}\n",
    "    color_map = ['skyblue' if node in user_nodes else 'lightgreen' for node in G.nodes()]\n",
    "    nx.draw(G, pos, with_labels=True, node_size=300, arrows=True, node_color=color_map)\n",
    "    plt.title(\"User ➝ Target PERFORMS Graph Sample\")\n",
    "    plt.savefig(\"results/graph_sample.png\")\n",
    "    plt.show()"
   ]
  },
  {
   "cell_type": "code",
   "execution_count": 34,
   "id": "f34d287c",
   "metadata": {},
   "outputs": [
    {
     "data": {
      "image/png": "[encoded data removed]",
      "text/plain": [
       "<Figure size 1200x800 with 1 Axes>"
      ]
     },
     "metadata": {},
     "output_type": "display_data"
    }
   ],
   "source": [
    "visualize_graph_sample(driver)"
   ]
  }
 ],
 "metadata": {
  "kernelspec": {
   "display_name": ".venv",
   "language": "python",
   "name": "python3"
  },
  "language_info": {
   "codemirror_mode": {
    "name": "ipython",
    "version": 3
   },
   "file_extension": ".py",
   "mimetype": "text/x-python",
   "name": "python",
   "nbconvert_exporter": "python",
   "pygments_lexer": "ipython3",
   "version": "3.12.0"
  }
 },
 "nbformat": 4,
 "nbformat_minor": 5
}
